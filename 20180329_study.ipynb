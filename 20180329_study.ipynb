{
 "cells": [
  {
   "cell_type": "code",
   "execution_count": 10,
   "metadata": {},
   "outputs": [
    {
     "name": "stdout",
     "output_type": "stream",
     "text": [
      "2\n",
      "12\n",
      "2\n",
      "1012\n",
      "3\n"
     ]
    }
   ],
   "source": [
    "#!/bin/python3\n",
    "\n",
    "import sys\n",
    "\n",
    "def findDigits(n):\n",
    "    # Complete this function\n",
    "    tmp = 0\n",
    "    count = 0\n",
    "    for i in range(len(str(n))):\n",
    "        try: \n",
    "            tmp = n % int(str(n)[i])\n",
    "            if tmp == 0:\n",
    "                count += 1\n",
    "        except:\n",
    "            pass\n",
    "        \n",
    "    return count\n",
    "\n",
    "if __name__ == \"__main__\":\n",
    "    t = int(input().strip())\n",
    "    for a0 in range(t):\n",
    "        n = int(input().strip())\n",
    "        result = findDigits(n)\n",
    "        print(result)\n"
   ]
  },
  {
   "cell_type": "code",
   "execution_count": 16,
   "metadata": {},
   "outputs": [
    {
     "name": "stdout",
     "output_type": "stream",
     "text": [
      "25\n",
      "15511210043330985984000000\n"
     ]
    }
   ],
   "source": [
    "#!/bin/python3\n",
    "\n",
    "import sys\n",
    "\n",
    "def extraLongFactorials(n):\n",
    "    # Complete this function\n",
    "    # print(n)\n",
    "    if(n==1):\n",
    "        return 1\n",
    "    result = n * extraLongFactorials(n-1)\n",
    "    \n",
    "    return result\n",
    "    # print(result)\n",
    "\n",
    "\n",
    "if __name__ == \"__main__\":\n",
    "    n = int(input().strip())\n",
    "    result = extraLongFactorials(n)\n",
    "    print(result)\n",
    "    "
   ]
  },
  {
   "cell_type": "code",
   "execution_count": 40,
   "metadata": {},
   "outputs": [
    {
     "name": "stdout",
     "output_type": "stream",
     "text": [
      "No\n"
     ]
    }
   ],
   "source": [
    "#!/bin/python3\n",
    "\n",
    "import sys\n",
    "\n",
    "def appendAndDelete(s, t, k):\n",
    "    # Complete this function\\\n",
    "    if len(s) >= len(t):\n",
    "        for i in range(len(s)):\n",
    "            if i == len(t):\n",
    "                idx = len(s)-1\n",
    "                break\n",
    "            \n",
    "            if s[i] != t[i]:\n",
    "                idx = i\n",
    "                break\n",
    "            else:\n",
    "                idx = len(s)-1\n",
    "\n",
    "    if k >= idx:\n",
    "        k -= idx\n",
    "        if len(t[idx+1:]) > k:\n",
    "            return \"No\"\n",
    "        else: \n",
    "            return \"Yes\"\n",
    "    else: \n",
    "        return \"No\"\n",
    "\n",
    "if __name__ == \"__main__\":\n",
    "    s = input().strip()\n",
    "    t = input().strip()\n",
    "    k = int(input().strip())\n",
    "    result = appendAndDelete(s, t, k)\n",
    "    print(result)\n"
   ]
  },
  {
   "cell_type": "code",
   "execution_count": null,
   "metadata": {},
   "outputs": [],
   "source": []
  },
  {
   "cell_type": "code",
   "execution_count": null,
   "metadata": {},
   "outputs": [],
   "source": []
  }
 ],
 "metadata": {
  "kernelspec": {
   "display_name": "Python 3",
   "language": "python",
   "name": "python3"
  },
  "language_info": {
   "codemirror_mode": {
    "name": "ipython",
    "version": 3
   },
   "file_extension": ".py",
   "mimetype": "text/x-python",
   "name": "python",
   "nbconvert_exporter": "python",
   "pygments_lexer": "ipython3",
   "version": "3.6.3"
  }
 },
 "nbformat": 4,
 "nbformat_minor": 2
}
