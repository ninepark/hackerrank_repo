{
 "cells": [
  {
   "cell_type": "code",
   "execution_count": 1,
   "metadata": {},
   "outputs": [],
   "source": [
    "def look_for_key(main_box):\n",
    "    pile = main_box.make_a_pile_to_look_through()\n",
    "    while pile is not empty:\n",
    "        box = pile.grab_a_box()\n",
    "        for item in box:\n",
    "            if item.is_a_box():\n",
    "                pile.append(item)\n",
    "            elif item.is_a_key():\n",
    "                print(\"열쇠 찾음!\")\n",
    "                "
   ]
  },
  {
   "cell_type": "code",
   "execution_count": 2,
   "metadata": {},
   "outputs": [],
   "source": [
    "def look_for_key_rec(box):\n",
    "    for item in box:\n",
    "        if item.is_a_book():\n",
    "            look_for_key(item)\n",
    "        elif item.is_a_key():\n",
    "            print(\"열쇠 찾음!\")"
   ]
  },
  {
   "cell_type": "code",
   "execution_count": null,
   "metadata": {},
   "outputs": [],
   "source": []
  },
  {
   "cell_type": "markdown",
   "metadata": {},
   "source": [
    "#### Migratory Birds"
   ]
  },
  {
   "cell_type": "code",
   "execution_count": 19,
   "metadata": {},
   "outputs": [
    {
     "name": "stdout",
     "output_type": "stream",
     "text": [
      "6\n",
      "1 4 4 4 5 3\n",
      "4\n"
     ]
    }
   ],
   "source": [
    "#!/bin/python3\n",
    "\n",
    "import sys\n",
    "from collections import Counter\n",
    "\n",
    "def migratoryBirds(n, ar):\n",
    "    # Complete this function\n",
    "    count = Counter(ar)\n",
    "    max_val = max(count.values())\n",
    "    for i in range(1, 6):\n",
    "        if count[i] == max_val:\n",
    "            return i;\n",
    "\n",
    "n = int(input().strip())\n",
    "ar = list(map(int, input().strip().split(' ')))\n",
    "result = migratoryBirds(n, ar)\n",
    "print(result)"
   ]
  },
  {
   "cell_type": "markdown",
   "metadata": {},
   "source": [
    "#### Day of the Programmer"
   ]
  },
  {
   "cell_type": "code",
   "execution_count": 31,
   "metadata": {},
   "outputs": [
    {
     "name": "stdout",
     "output_type": "stream",
     "text": [
      "2016\n",
      "12.09.2016\n"
     ]
    }
   ],
   "source": [
    "#!/bin/python3\n",
    "\n",
    "import sys\n",
    "\n",
    "def solve(year):\n",
    "    # Complete this function\n",
    "    day_of_programmer = 256\n",
    "    jan_to_aug = 243\n",
    "    \n",
    "    if year < 1918:\n",
    "        if (year % 4 != 0):\n",
    "            # leap year\n",
    "            day = day_of_programmer - jan_to_aug\n",
    "        else:\n",
    "            day = day_of_programmer - (jan_to_aug+1)\n",
    "    elif year > 1918:\n",
    "        if (year%400 == 0) or (year%100 != 0) and (year%4 == 0):\n",
    "            #leap year\n",
    "            day = day_of_programmer - (jan_to_aug+1)\n",
    "        else:\n",
    "            day = day_of_programmer - jan_to_aug\n",
    "    # year = 1918        \n",
    "    else:\n",
    "        jan_to_aug = 230\n",
    "        day = day_of_programmer - jan_to_aug\n",
    "        \n",
    "    return str(day)+\".09.\"+str(year)\n",
    "\n",
    "year = int(input().strip())\n",
    "result = solve(year)\n",
    "print(result)\n"
   ]
  },
  {
   "cell_type": "markdown",
   "metadata": {},
   "source": [
    "#### Bon Appétit"
   ]
  },
  {
   "cell_type": "code",
   "execution_count": 36,
   "metadata": {},
   "outputs": [
    {
     "name": "stdout",
     "output_type": "stream",
     "text": [
      "4 1\n",
      "3 10 2 9\n",
      "7\n",
      "Bon Appetit\n"
     ]
    }
   ],
   "source": [
    "#!/bin/python3\n",
    "\n",
    "import sys\n",
    "\n",
    "def bonAppetit(n, k, b, ar):\n",
    "    # Complete this function\n",
    "    b_actual = int((sum(ar) - ar[k])/2)\n",
    "    if b_actual == b:\n",
    "        return \"Bon Appetit\"\n",
    "    else:\n",
    "        return abs(b_actual - b)\n",
    "\n",
    "n, k = input().strip().split(' ')\n",
    "n, k = [int(n), int(k)]\n",
    "ar = list(map(int, input().strip().split(' ')))\n",
    "b = int(input().strip())\n",
    "result = bonAppetit(n, k, b, ar)\n",
    "print(result)\n"
   ]
  },
  {
   "cell_type": "code",
   "execution_count": null,
   "metadata": {},
   "outputs": [],
   "source": []
  },
  {
   "cell_type": "code",
   "execution_count": null,
   "metadata": {},
   "outputs": [],
   "source": []
  }
 ],
 "metadata": {
  "kernelspec": {
   "display_name": "Python 3",
   "language": "python",
   "name": "python3"
  },
  "language_info": {
   "codemirror_mode": {
    "name": "ipython",
    "version": 3
   },
   "file_extension": ".py",
   "mimetype": "text/x-python",
   "name": "python",
   "nbconvert_exporter": "python",
   "pygments_lexer": "ipython3",
   "version": "3.6.3"
  }
 },
 "nbformat": 4,
 "nbformat_minor": 2
}
