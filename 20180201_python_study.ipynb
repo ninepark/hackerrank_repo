{
 "cells": [
  {
   "cell_type": "markdown",
   "metadata": {},
   "source": [
    "### Grading Students"
   ]
  },
  {
   "cell_type": "code",
   "execution_count": 4,
   "metadata": {},
   "outputs": [
    {
     "name": "stdout",
     "output_type": "stream",
     "text": [
      "4\n",
      "73\n",
      "67\n",
      "38\n",
      "33\n",
      "75\n",
      "67\n",
      "40\n",
      "33\n"
     ]
    }
   ],
   "source": [
    "#!/bin/python3\n",
    "\n",
    "import sys\n",
    "\n",
    "\n",
    "def solve(grades):\n",
    "    # Complete this function\n",
    "    result = []\n",
    "    for grade in grades:\n",
    "        if grade >= 38:\n",
    "            multiple = (grade // 5) + 1\n",
    "            mod = grade % 5 \n",
    "        \n",
    "            if mod >= 3:\n",
    "                result.append(multiple * 5)\n",
    "            \n",
    "            elif mod <3:\n",
    "                result.append(grade)\n",
    "        else:\n",
    "            result.append(grade)\n",
    "\n",
    "    return result\n",
    "                \n",
    "\n",
    "n = int(input().strip())\n",
    "grades = []\n",
    "grades_i = 0\n",
    "for grades_i in range(n):\n",
    "   grades_t = int(input().strip())\n",
    "   grades.append(grades_t)\n",
    "result = solve(grades)\n",
    "print (\"\\n\".join(map(str, result)))"
   ]
  },
  {
   "cell_type": "markdown",
   "metadata": {},
   "source": [
    "### Apple and Orange"
   ]
  },
  {
   "cell_type": "code",
   "execution_count": 3,
   "metadata": {},
   "outputs": [
    {
     "name": "stdout",
     "output_type": "stream",
     "text": [
      "7 11\n",
      "5 15\n",
      "3 2\n",
      "-2 2 1\n",
      "5 -6\n",
      "1\n",
      "1\n"
     ]
    }
   ],
   "source": [
    "#!/bin/python3\n",
    "\n",
    "import sys\n",
    "\n",
    "def countApplesAndOranges(s, t, a, b, apples, oranges):\n",
    "    # Complete this function\n",
    "    point_a = 0\n",
    "    point_b = 0\n",
    "    for apple in apples:\n",
    "        position = a + apple\n",
    "        if s <= position <= t:\n",
    "            point_a += 1\n",
    "            \n",
    "    for orange in oranges:\n",
    "        position = b + orange\n",
    "        if s <= position <= t:\n",
    "            point_b += 1\n",
    "            \n",
    "    print(point_a)\n",
    "    print(point_b)\n",
    "\n",
    "if __name__ == \"__main__\":\n",
    "    s, t = input().strip().split(' ')\n",
    "    s, t = [int(s), int(t)]\n",
    "    a, b = input().strip().split(' ')\n",
    "    a, b = [int(a), int(b)]\n",
    "    m, n = input().strip().split(' ')\n",
    "    m, n = [int(m), int(n)]\n",
    "    apple = list(map(int, input().strip().split(' ')))\n",
    "    orange = list(map(int, input().strip().split(' ')))\n",
    "    countApplesAndOranges(s, t, a, b, apple, orange)\n"
   ]
  },
  {
   "cell_type": "markdown",
   "metadata": {},
   "source": [
    "### Kangaroo"
   ]
  },
  {
   "cell_type": "code",
   "execution_count": 7,
   "metadata": {},
   "outputs": [
    {
     "name": "stdout",
     "output_type": "stream",
     "text": [
      "0 3 4 2\n",
      "YES\n"
     ]
    }
   ],
   "source": [
    "#!/bin/python3\n",
    "\n",
    "import sys\n",
    "\n",
    "def kangaroo(x1, v1, x2, v2):\n",
    "    # Complete this function\n",
    "    if (v1 == v2) or (v1 < v2):\n",
    "        return \"NO\"\n",
    "    \n",
    "    if (x1 != x2) and (v1 > v2): \n",
    "        if (x2 - x1)%(v1 - v2) == 0: \n",
    "            return \"YES\"\n",
    " \n",
    "    return \"NO\"\n",
    "\n",
    "x1, v1, x2, v2 = input().strip().split(' ')\n",
    "x1, v1, x2, v2 = [int(x1), int(v1), int(x2), int(v2)]\n",
    "result = kangaroo(x1, v1, x2, v2)\n",
    "print(result)\n"
   ]
  },
  {
   "cell_type": "markdown",
   "metadata": {},
   "source": [
    "### Between Two Sets"
   ]
  },
  {
   "cell_type": "code",
   "execution_count": null,
   "metadata": {},
   "outputs": [],
   "source": []
  },
  {
   "cell_type": "code",
   "execution_count": null,
   "metadata": {},
   "outputs": [],
   "source": []
  },
  {
   "cell_type": "markdown",
   "metadata": {},
   "source": [
    "### Breaking the records"
   ]
  },
  {
   "cell_type": "code",
   "execution_count": 1,
   "metadata": {},
   "outputs": [
    {
     "name": "stdout",
     "output_type": "stream",
     "text": [
      "9\n",
      "10 5 20 20 4 5 2 25 1\n",
      "2 4\n"
     ]
    }
   ],
   "source": [
    "#!/bin/python3\n",
    "\n",
    "import sys\n",
    "\n",
    "def breakingRecords(score):\n",
    "    # Complete this function\n",
    "    most = score[0]\n",
    "    least = score[0]\n",
    "    most_count = 0\n",
    "    least_count = 0\n",
    "    \n",
    "    for i in range(1, len(score)):\n",
    "        if score[i] > most:\n",
    "            most = score[i]\n",
    "            most_count +=1\n",
    "        if score[i] < least:\n",
    "            least = score[i]\n",
    "            least_count +=1\n",
    "            \n",
    "    return most_count, least_count\n",
    "\n",
    "\n",
    "if __name__ == \"__main__\":\n",
    "    n = int(input().strip())\n",
    "    score = list(map(int, input().strip().split(' ')))\n",
    "    result = breakingRecords(score)\n",
    "    print (\" \".join(map(str, result)))"
   ]
  },
  {
   "cell_type": "markdown",
   "metadata": {},
   "source": [
    "### Birthday Chocolate"
   ]
  },
  {
   "cell_type": "code",
   "execution_count": 53,
   "metadata": {},
   "outputs": [
    {
     "name": "stdout",
     "output_type": "stream",
     "text": [
      "5\n",
      "1 2 1 3 2\n",
      "3 2\n",
      "2\n"
     ]
    }
   ],
   "source": [
    "#!/bin/python3\n",
    "\n",
    "import sys\n",
    "\n",
    "def solve(n, s, d, m):\n",
    "    # Complete this function\n",
    "    if (n == 1) and (d == s[0]):\n",
    "        return 1\n",
    "    elif (n == 1) and (d != s[0]):\n",
    "        return 0\n",
    "   \n",
    "    ls = [sum(s[i:i+m]) for i in range(n)]\n",
    "    return ls[:-1].count(d)\n",
    "\n",
    "n = int(input().strip())\n",
    "s = list(map(int, input().strip().split(' ')))\n",
    "d, m = input().strip().split(' ')\n",
    "d, m = [int(d), int(m)]\n",
    "result = solve(n, s, d, m)\n",
    "print(result)\n"
   ]
  },
  {
   "cell_type": "markdown",
   "metadata": {},
   "source": [
    "### Divisible Sum Pairs"
   ]
  },
  {
   "cell_type": "code",
   "execution_count": null,
   "metadata": {},
   "outputs": [],
   "source": [
    "#!/bin/python3\n",
    "\n",
    "import sys\n",
    "\n",
    "def divisibleSumPairs(n, k, ar):\n",
    "    # Complete this function\n",
    "    count = 0\n",
    "    for i in range(n):\n",
    "        for j in range(i+1, n):\n",
    "            sum_n = ar[i] + ar[j]\n",
    "            if sum_n % k == 0 :\n",
    "                count+=1\n",
    "\n",
    "    return count  \n",
    "\n",
    "n, k = input().strip().split(' ')\n",
    "n, k = [int(n), int(k)]\n",
    "ar = list(map(int, input().strip().split(' ')))\n",
    "result = divisibleSumPairs(n, k, ar)\n",
    "print(result)\n"
   ]
  },
  {
   "cell_type": "code",
   "execution_count": null,
   "metadata": {},
   "outputs": [],
   "source": []
  },
  {
   "cell_type": "code",
   "execution_count": null,
   "metadata": {},
   "outputs": [],
   "source": []
  },
  {
   "cell_type": "code",
   "execution_count": null,
   "metadata": {},
   "outputs": [],
   "source": []
  },
  {
   "cell_type": "code",
   "execution_count": null,
   "metadata": {},
   "outputs": [],
   "source": []
  },
  {
   "cell_type": "code",
   "execution_count": null,
   "metadata": {},
   "outputs": [],
   "source": []
  },
  {
   "cell_type": "code",
   "execution_count": null,
   "metadata": {},
   "outputs": [],
   "source": []
  },
  {
   "cell_type": "code",
   "execution_count": null,
   "metadata": {},
   "outputs": [],
   "source": []
  },
  {
   "cell_type": "code",
   "execution_count": null,
   "metadata": {},
   "outputs": [],
   "source": []
  },
  {
   "cell_type": "code",
   "execution_count": null,
   "metadata": {},
   "outputs": [],
   "source": []
  },
  {
   "cell_type": "code",
   "execution_count": null,
   "metadata": {},
   "outputs": [],
   "source": []
  },
  {
   "cell_type": "code",
   "execution_count": null,
   "metadata": {},
   "outputs": [],
   "source": []
  },
  {
   "cell_type": "code",
   "execution_count": null,
   "metadata": {},
   "outputs": [],
   "source": []
  },
  {
   "cell_type": "markdown",
   "metadata": {},
   "source": [
    "##### Divisible Sum Pairs"
   ]
  },
  {
   "cell_type": "code",
   "execution_count": 74,
   "metadata": {},
   "outputs": [
    {
     "data": {
      "text/plain": [
       "5"
      ]
     },
     "execution_count": 74,
     "metadata": {},
     "output_type": "execute_result"
    }
   ],
   "source": [
    "n = 6; k= 3; ar=[1,3,2,6,1,2]\n",
    "\n",
    "count = 0\n",
    "for i in range(n):\n",
    "    for j in range(i+1, n):\n",
    "        sum_n = ar[i] + ar[j]\n",
    "        if sum_n % k == 0 :\n",
    "            count+=1\n",
    "\n",
    "count\n"
   ]
  },
  {
   "cell_type": "code",
   "execution_count": 66,
   "metadata": {},
   "outputs": [
    {
     "data": {
      "text/plain": [
       "[[1, 3, 2, 6, 1, 2], [3, 2, 6, 1, 2], [2, 6, 1, 2], [6, 1, 2], [1, 2], [2]]"
      ]
     },
     "execution_count": 66,
     "metadata": {},
     "output_type": "execute_result"
    }
   ],
   "source": [
    "n = 6; k= 3; ar=[1,3,2,6,1,2]\n",
    "ls = [ar[i:] for i in range(n)]\n",
    "for _ in range(n):  \n",
    "    pass   \n",
    "    \n",
    "ls"
   ]
  },
  {
   "cell_type": "code",
   "execution_count": null,
   "metadata": {},
   "outputs": [],
   "source": [
    "sum_func2 = lambda x, y : x + y\n",
    "sum_func2(5,6)"
   ]
  },
  {
   "cell_type": "code",
   "execution_count": null,
   "metadata": {},
   "outputs": [],
   "source": [
    "number_list = range(1,10)\n",
    "print(\"numberList :\", list(number_list))\n",
    "\n",
    "list(map(lambda number : number + 2, number_list))"
   ]
  },
  {
   "cell_type": "code",
   "execution_count": null,
   "metadata": {},
   "outputs": [],
   "source": [
    "list(map(lambda number : number + 2 if number%2 == 0 else number * 2, number_list))"
   ]
  },
  {
   "cell_type": "code",
   "execution_count": null,
   "metadata": {},
   "outputs": [],
   "source": [
    "data = [list(range(7)[i:i+3]) for i in range(5) ] \n"
   ]
  },
  {
   "cell_type": "code",
   "execution_count": null,
   "metadata": {},
   "outputs": [],
   "source": []
  },
  {
   "cell_type": "markdown",
   "metadata": {},
   "source": [
    "##### Between Two Sets"
   ]
  },
  {
   "cell_type": "markdown",
   "metadata": {},
   "source": [
    "2 3\n",
    "2 4 \n",
    "16 32 96"
   ]
  },
  {
   "cell_type": "code",
   "execution_count": 46,
   "metadata": {},
   "outputs": [],
   "source": [
    "def gcd(a,b):\n",
    "    \"\"\"Compute the greatest common divisor of a and b\"\"\"\n",
    "    while b > 0:\n",
    "        a, b = b, a % b\n",
    "        print(a, b)\n",
    "    return a\n",
    "        \n",
    "    \n",
    "def lcm(a, b):\n",
    "    \"\"\"Compute the lowest common multiple of a and b\"\"\"\n",
    "    return a * b / gcd(a, b)\n"
   ]
  },
  {
   "cell_type": "code",
   "execution_count": 4,
   "metadata": {},
   "outputs": [],
   "source": [
    "def gcd(a,b):\n",
    "    while b > 0:\n",
    "        a, b = b, a % b\n",
    "    return a\n",
    "\n",
    "def lcm(a, b):\n",
    "    return a * b / gcd(a, b)\n",
    "\n",
    "def getTotalX(a, b):\n",
    "    a.sort(reverse=True)\n",
    "    b.sort(reverse=True)\n",
    "    gcd_num = 1\n",
    "    lcm_num=a[0]\n",
    "    total = []\n",
    "\n",
    "    if len(a) > 1: \n",
    "        for i in range(0, n-1):\n",
    "            gcd_num = gcd(a[i], a[i+1])\n",
    "            lcm_num = int(lcm_num * a[i+1] / gcd_num)\n",
    "    elif len(a) == 1: \n",
    "        gcd_num = a[0]\n",
    "        \n",
    "    if len(b) > 1: \n",
    "        for i in range(0, m-1):\n",
    "            gcd_num = gcd(b[i], b[i+1])\n",
    "    else:\n",
    "        gcd_num = gcd(a[0], b[0])\n",
    "\n",
    "    for i in range(1, gcd_num+1):\n",
    "        result = gcd_num / i \n",
    "        if (gcd_num % i) == 0 and (result >= lcm_num): \n",
    "            total.append(result)\n",
    "            \n",
    "    return len(total)\n",
    "\n"
   ]
  },
  {
   "cell_type": "code",
   "execution_count": 5,
   "metadata": {},
   "outputs": [
    {
     "data": {
      "text/plain": [
       "1"
      ]
     },
     "execution_count": 5,
     "metadata": {},
     "output_type": "execute_result"
    }
   ],
   "source": [
    "n = 1; m= 1; a = [1]; b = [100]  # return 9\n",
    "#n = 1; m= 3; a = [2]; b = [20,30,12]  # return 1\n",
    "\n",
    "getTotalX(a,b)"
   ]
  },
  {
   "cell_type": "code",
   "execution_count": 3,
   "metadata": {},
   "outputs": [],
   "source": [
    "def gcd(a,b):\n",
    "    while b > 0:\n",
    "        a, b = b, a % b\n",
    "    return a\n",
    "\n",
    "def lcm(a, b):\n",
    "    return a * b / gcd(a, b)\n",
    "\n",
    "\n",
    "def getTotalX(a, b):\n",
    "    \n",
    "    return len(total)\n",
    "\n"
   ]
  },
  {
   "cell_type": "code",
   "execution_count": 7,
   "metadata": {},
   "outputs": [
    {
     "name": "stdout",
     "output_type": "stream",
     "text": [
      "2\n"
     ]
    },
    {
     "data": {
      "text/plain": [
       "(2, 4.0)"
      ]
     },
     "execution_count": 7,
     "metadata": {},
     "output_type": "execute_result"
    }
   ],
   "source": [
    "a = [2, 4]\n",
    "b = [20, 30, 12]\n",
    "gcd_n = 1\n",
    "lcm_n = a[0]\n",
    "\n",
    "\n",
    "if len(a)>1:\n",
    "    for i in range(len(a)-1):\n",
    "        gcd_n = gcd(a[i], a[i+1])\n",
    "        lcm_n = lcm_n * a[i+1] / gcd_n\n",
    "        print(gcd_n)\n",
    "else: \n",
    "    gcd_n = a[0]\n",
    "    \n",
    "if len(b)>1:\n",
    "    for i in range(len(b)-1):\n",
    "        pass\n",
    "    \n",
    "    \n",
    "    \n",
    "gcd_n, lcm_n"
   ]
  },
  {
   "cell_type": "code",
   "execution_count": 64,
   "metadata": {
    "scrolled": true
   },
   "outputs": [
    {
     "name": "stdout",
     "output_type": "stream",
     "text": [
      "16.0\n",
      "8.0\n",
      "4.0\n",
      "3\n"
     ]
    }
   ],
   "source": [
    "def gcd(a,b):\n",
    "    while b > 0:\n",
    "        a, b = b, a % b\n",
    "    return a\n",
    "\n",
    "def lcm(a, b):\n",
    "    return a * b / gcd(a, b)\n",
    "\n",
    "        \n",
    "def getTotalX(a, b):\n",
    "    a.sort(reverse=True)\n",
    "    b.sort(reverse=True)\n",
    "    gcd_num = 1\n",
    "    lcm_num=a[0]\n",
    "    total = []\n",
    "\n",
    "#     for i in range(0, n-1):\n",
    "#         gcd_num = gcd(a[i], a[i+1])\n",
    "#         lcm_num = int(lcm_num * a[i+1] / gcd_num)\n",
    "    for i in range(0, n-1):\n",
    "        gcd_num = gcd(a[i], a[i+1])\n",
    "        if len(b) > 1:\n",
    "            lcm_num = int(lcm_num * a[i+1] / gcd_num)\n",
    "        else:\n",
    "            lcm_num = b[i]\n",
    "        \n",
    "    for i in range(0, m-1):\n",
    "        if m > 1:\n",
    "            gcd_num = gcd(b[i], b[i+1])\n",
    "        else: \n",
    "            gcd_num = b[i]\n",
    "    \n",
    "    for i in range(1, gcd_num+1):\n",
    "        result = gcd_num / i \n",
    "        if (gcd_num % i) == 0 and (result >= lcm_num): \n",
    "            total.append(result)\n",
    "            \n",
    "    return len(total)\n",
    "#    return gcd_num, lcm_num, len(total)\n",
    "\n",
    "    \n",
    "total = getTotalX(a, b)\n",
    "print(total)\n"
   ]
  },
  {
   "cell_type": "code",
   "execution_count": 74,
   "metadata": {},
   "outputs": [
    {
     "ename": "IndentationError",
     "evalue": "expected an indented block (<ipython-input-74-5aabf9b6708e>, line 11)",
     "output_type": "error",
     "traceback": [
      "\u001b[0;36m  File \u001b[0;32m\"<ipython-input-74-5aabf9b6708e>\"\u001b[0;36m, line \u001b[0;32m11\u001b[0m\n\u001b[0;31m    gcd_num = gcd(a[i], a[i+1])\u001b[0m\n\u001b[0m                               ^\u001b[0m\n\u001b[0;31mIndentationError\u001b[0m\u001b[0;31m:\u001b[0m expected an indented block\n"
     ]
    }
   ],
   "source": [
    "        \n",
    "def getTotalX(a, b):\n",
    "    # Complete this function    \n",
    "    a.sort(reverse=True)\n",
    "    b.sort(reverse=True)\n",
    "    gcd_num = 1\n",
    "    lcm_num=a[0]\n",
    "    total = []\n",
    "\n",
    "    for i in range(0, n-1):\n",
    "        gcd_num = gcd(a[i], a[i+1])\n",
    "        lcm_num = int(lcm_num * a[i+1] / gcd_num)\n",
    "        \n",
    "    for i in range(0, m-1):\n",
    "        gcd_num = gcd(b[i], b[i+1])\n",
    "    \n",
    "    for i in range(1, gcd_num+1):\n",
    "        result = gcd_num / i \n",
    "        if (gcd_num % i) == 0 and (result >= lcm_num): \n",
    "            total.append(result)\n",
    "            \n",
    "    return len(total)\n"
   ]
  }
 ],
 "metadata": {
  "kernelspec": {
   "display_name": "Python 3",
   "language": "python",
   "name": "python3"
  },
  "language_info": {
   "codemirror_mode": {
    "name": "ipython",
    "version": 3
   },
   "file_extension": ".py",
   "mimetype": "text/x-python",
   "name": "python",
   "nbconvert_exporter": "python",
   "pygments_lexer": "ipython3",
   "version": "3.6.3"
  }
 },
 "nbformat": 4,
 "nbformat_minor": 2
}
