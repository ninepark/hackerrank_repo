{
 "cells": [
  {
   "cell_type": "markdown",
   "metadata": {},
   "source": [
    "#### Sock Merchant"
   ]
  },
  {
   "cell_type": "code",
   "execution_count": 26,
   "metadata": {},
   "outputs": [
    {
     "name": "stdout",
     "output_type": "stream",
     "text": [
      "9\n",
      "10 20 20 10 10 30 50 10 20 \n",
      "3\n"
     ]
    }
   ],
   "source": [
    "#!/bin/python3\n",
    "\n",
    "import sys\n",
    "\n",
    "def sockMerchant(n, ar):\n",
    "    # Complete this function\n",
    "    count = 0\n",
    "    while len(ar) > 0:\n",
    "        sock = ar[0]\n",
    "        ar.remove(sock)\n",
    "        if sock in ar:\n",
    "            ar.remove(sock)\n",
    "            count += 1\n",
    "    return count\n",
    "\n",
    "n = int(input().strip())\n",
    "ar = list(map(int, input().strip().split(' ')))\n",
    "result = sockMerchant(n, ar)\n",
    "print(result)\n"
   ]
  },
  {
   "cell_type": "markdown",
   "metadata": {},
   "source": [
    "##### Drawing Book"
   ]
  },
  {
   "cell_type": "code",
   "execution_count": 29,
   "metadata": {},
   "outputs": [
    {
     "name": "stdout",
     "output_type": "stream",
     "text": [
      "5\n",
      "4\n",
      "0\n"
     ]
    }
   ],
   "source": [
    "#!/bin/python3\n",
    "\n",
    "import sys\n",
    "\n",
    "def solve(n, p):\n",
    "    # Complete this function\n",
    "    f_count = p//2 \n",
    "    b_count = n//2 - p//2 \n",
    "    if f_count < b_count:\n",
    "        return f_count\n",
    "    else:\n",
    "        return b_count\n",
    "\n",
    "\n",
    "n = int(input().strip())\n",
    "p = int(input().strip())\n",
    "result = solve(n, p)\n",
    "print(result)"
   ]
  },
  {
   "cell_type": "markdown",
   "metadata": {},
   "source": [
    "##### Counting Valleys"
   ]
  },
  {
   "cell_type": "code",
   "execution_count": 87,
   "metadata": {},
   "outputs": [
    {
     "name": "stdout",
     "output_type": "stream",
     "text": [
      "8\n",
      "UDDDUDUU\n",
      "1\n"
     ]
    }
   ],
   "source": [
    "#!/bin/python3\n",
    "\n",
    "import sys\n",
    "\n",
    "def countingValleys(n, s):\n",
    "    # Complete this function\n",
    "    s = [1 if step == 'U' else -1 for step in list(s)]\n",
    "    level = 0\n",
    "    flag = 0\n",
    "    valley_count = 0\n",
    "\n",
    "    for i in range(len(s)):\n",
    "        level += s[i]\n",
    "\n",
    "        if flag == 0 and level < 0:\n",
    "            valley_count += 1\n",
    "\n",
    "        if level < 0:\n",
    "            flag = 1\n",
    "        else:\n",
    "            flag = 0\n",
    "\n",
    "    return valley_count\n",
    "\n",
    "\n",
    "if __name__ == \"__main__\":\n",
    "    n = int(input().strip())\n",
    "    s = input().strip()\n",
    "    result = countingValleys(n, s)\n",
    "    print(result)\n"
   ]
  },
  {
   "cell_type": "markdown",
   "metadata": {},
   "source": [
    "##### Electronics Shop"
   ]
  },
  {
   "cell_type": "code",
   "execution_count": 131,
   "metadata": {},
   "outputs": [
    {
     "name": "stdout",
     "output_type": "stream",
     "text": [
      "10 2 3\n",
      "3 1\n",
      "5 2 8\n",
      "9\n"
     ]
    }
   ],
   "source": [
    "#!/bin/python3\n",
    "\n",
    "import sys\n",
    "\n",
    "def less_than_money(price):\n",
    "        money = s\n",
    "        return price <= money\n",
    "\n",
    "def getMoneySpent(keyboards, drives, s):\n",
    "    # Complete this function\n",
    "    price_ls=[]\n",
    "    for i in range(n):\n",
    "        price = [drive+keyboards[i] for drive in drives]\n",
    "        price_ls = price_ls + price\n",
    "    \n",
    "    try: \n",
    "        money = max(list(filter(less_than_money, price_ls)))\n",
    "        return money\n",
    "    except:\n",
    "        return -1\n",
    "    \n",
    "    \n",
    "s,n,m = input().strip().split(' ')\n",
    "s,n,m = [int(s),int(n),int(m)]\n",
    "keyboards = list(map(int, input().strip().split(' ')))\n",
    "drives = list(map(int, input().strip().split(' ')))\n",
    "#  The maximum amount of money she can spend on a keyboard and USB drive, or -1 if she can't purchase both items\n",
    "moneySpent = getMoneySpent(keyboards, drives, s)\n",
    "print(moneySpent)\n"
   ]
  },
  {
   "cell_type": "markdown",
   "metadata": {},
   "source": [
    "##### Cats and a Mouse"
   ]
  },
  {
   "cell_type": "code",
   "execution_count": 136,
   "metadata": {},
   "outputs": [
    {
     "name": "stdout",
     "output_type": "stream",
     "text": [
      "3\n",
      "1 2 3\n",
      "Cat B\n",
      "1 3 2\n",
      "Mouse C\n",
      "2 1 3\n",
      "Cat A\n"
     ]
    }
   ],
   "source": [
    "#!/bin/python3\n",
    "\n",
    "import sys\n",
    "\n",
    "def catAndMouse(x, y, z):\n",
    "    # Complete this function\n",
    "\n",
    "    return \"Cat A\" if abs(z - x) < abs(z - y) else \"Cat B\" if abs(z - x) > abs(z - y) else \"Mouse C\"\n",
    "\n",
    "#     if x < z < y:\n",
    "#         if z-x < y-z:\n",
    "#             result = \"Cat A\"\n",
    "#         elif z-x > y-z:\n",
    "#             result = \"Cat B\"\n",
    "#         elif z-x == y-z:\n",
    "#             result = \"Mouse C\"\n",
    "            \n",
    "#     elif x < y < z or z < y < x:\n",
    "#         result = \"Cat B\"\n",
    "    \n",
    "#     elif z < x < y or y < x < z:\n",
    "#         result = \"Cat A\"\n",
    "    \n",
    "#     return result\n",
    "    \n",
    "    \n",
    "if __name__ == \"__main__\":\n",
    "    q = int(input().strip())\n",
    "    for a0 in range(q):\n",
    "        x, y, z = input().strip().split(' ')\n",
    "        x, y, z = [int(x), int(y), int(z)]\n",
    "        result = catAndMouse(x, y, z)\n",
    "        print (\"\".join(map(str, result)))\n"
   ]
  },
  {
   "cell_type": "markdown",
   "metadata": {},
   "source": [
    "##### Forming a Magic Square"
   ]
  },
  {
   "cell_type": "code",
   "execution_count": 24,
   "metadata": {},
   "outputs": [
    {
     "data": {
      "text/plain": [
       "[[4, 8, 2], [4, 5, 7], [6, 1, 6]]"
      ]
     },
     "execution_count": 24,
     "metadata": {},
     "output_type": "execute_result"
    }
   ],
   "source": [
    "s=[]\n",
    "s_t1 = [4, 8, 2]\n",
    "s_t2 = [4, 5, 7]\n",
    "s_t3 = [6, 1, 6]\n",
    "s.append(s_t1)\n",
    "s.append(s_t2)\n",
    "s.append(s_t3) \n",
    "s"
   ]
  },
  {
   "cell_type": "code",
   "execution_count": 13,
   "metadata": {},
   "outputs": [],
   "source": [
    "missing=[]\n",
    "for row in range(3):\n",
    "    for i in range(9):\n",
    "        if i not in s[row]:\n",
    "            missing.append(i)\n"
   ]
  },
  {
   "cell_type": "code",
   "execution_count": 14,
   "metadata": {
    "scrolled": true
   },
   "outputs": [
    {
     "data": {
      "text/plain": [
       "[0, 1, 3, 5, 6, 7, 0, 1, 2, 3, 6, 8, 0, 2, 3, 4, 5, 7, 8]"
      ]
     },
     "execution_count": 14,
     "metadata": {},
     "output_type": "execute_result"
    }
   ],
   "source": [
    "missing"
   ]
  },
  {
   "cell_type": "code",
   "execution_count": null,
   "metadata": {},
   "outputs": [],
   "source": [
    "def formingMagicSquare(s):\n",
    "    # Complete this function\n",
    "    missing=[]\n",
    "    for i in range(9):\n",
    "        if i not in s:\n",
    "            missing.append(i)\n",
    "    \n",
    "    \n",
    "    \n",
    "result = formingMagicSquare(s)\n",
    "print(result)"
   ]
  },
  {
   "cell_type": "code",
   "execution_count": null,
   "metadata": {},
   "outputs": [],
   "source": []
  },
  {
   "cell_type": "markdown",
   "metadata": {},
   "source": [
    "##### Picking Numbers"
   ]
  },
  {
   "cell_type": "code",
   "execution_count": 72,
   "metadata": {},
   "outputs": [
    {
     "name": "stdout",
     "output_type": "stream",
     "text": [
      "3\n"
     ]
    }
   ],
   "source": [
    "n = 6; a = [4,6,5,3,3,1]\n",
    "# n = 6; a = [1,2,2,3,1,2]\n",
    "\n",
    "def pickingNumbers(a):\n",
    "    # Complete this function\n",
    "    \n",
    "    # no.1 best solution\n",
    "    return max(a.count(x)+a.count(x+1) for x in set(a))\n",
    "    \n",
    "    # no.2 \n",
    "#     for i in a:\n",
    "#         c=a.count(i)\n",
    "#         d=a.count(i-1)\n",
    "#         c=c+d\n",
    "#         if c > maximum:\n",
    "#             maximum=c\n",
    "#     return maximum\n",
    "    \n",
    "    # my solution, wrong solution\n",
    "#     num = a[0]\n",
    "#     count = 1\n",
    "#     for i in range(1, n):\n",
    "#         if 0<= abs(num - a[i]) <= 1 :    \n",
    "#             count += 1\n",
    "#             # print(num, a[i])\n",
    "        \n",
    "#     return count\n",
    "\n",
    "    \n",
    "    \n",
    "result = pickingNumbers(a)\n",
    "print(result)\n"
   ]
  },
  {
   "cell_type": "code",
   "execution_count": null,
   "metadata": {},
   "outputs": [],
   "source": []
  },
  {
   "cell_type": "code",
   "execution_count": null,
   "metadata": {},
   "outputs": [],
   "source": []
  },
  {
   "cell_type": "code",
   "execution_count": null,
   "metadata": {},
   "outputs": [],
   "source": []
  },
  {
   "cell_type": "code",
   "execution_count": null,
   "metadata": {},
   "outputs": [],
   "source": []
  },
  {
   "cell_type": "code",
   "execution_count": null,
   "metadata": {},
   "outputs": [],
   "source": []
  },
  {
   "cell_type": "code",
   "execution_count": null,
   "metadata": {},
   "outputs": [],
   "source": []
  }
 ],
 "metadata": {
  "kernelspec": {
   "display_name": "Python 3",
   "language": "python",
   "name": "python3"
  },
  "language_info": {
   "codemirror_mode": {
    "name": "ipython",
    "version": 3
   },
   "file_extension": ".py",
   "mimetype": "text/x-python",
   "name": "python",
   "nbconvert_exporter": "python",
   "pygments_lexer": "ipython3",
   "version": "3.6.3"
  }
 },
 "nbformat": 4,
 "nbformat_minor": 2
}
