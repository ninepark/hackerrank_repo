{
 "cells": [
  {
   "cell_type": "markdown",
   "metadata": {},
   "source": [
    "##### Forming a Magic Square"
   ]
  },
  {
   "cell_type": "code",
   "execution_count": null,
   "metadata": {},
   "outputs": [],
   "source": []
  },
  {
   "cell_type": "markdown",
   "metadata": {},
   "source": [
    "##### Picking Numbers"
   ]
  },
  {
   "cell_type": "code",
   "execution_count": null,
   "metadata": {},
   "outputs": [],
   "source": []
  },
  {
   "cell_type": "markdown",
   "metadata": {},
   "source": [
    "##### Climbing the Leaderboard"
   ]
  },
  {
   "cell_type": "code",
   "execution_count": 34,
   "metadata": {},
   "outputs": [],
   "source": [
    "scores=[100,100,50,40,40,20,10]\n"
   ]
  },
  {
   "cell_type": "code",
   "execution_count": 36,
   "metadata": {},
   "outputs": [
    {
     "data": {
      "text/plain": [
       "<function list.count>"
      ]
     },
     "execution_count": 36,
     "metadata": {},
     "output_type": "execute_result"
    }
   ],
   "source": [
    "scores.count\n"
   ]
  },
  {
   "cell_type": "code",
   "execution_count": 26,
   "metadata": {},
   "outputs": [],
   "source": [
    "n, m = 7, 4\n",
    "scores=[100,100,50,40,40,20,10]\n",
    "alice=[5,25,50,120]"
   ]
  },
  {
   "cell_type": "code",
   "execution_count": 27,
   "metadata": {},
   "outputs": [
    {
     "data": {
      "text/plain": [
       "[100, 50, 40, 20, 10]"
      ]
     },
     "execution_count": 27,
     "metadata": {},
     "output_type": "execute_result"
    }
   ],
   "source": [
    "tmp = list(set(scores))\n",
    "tmp.sort(reverse=True)\n",
    "tmp"
   ]
  },
  {
   "cell_type": "code",
   "execution_count": 28,
   "metadata": {},
   "outputs": [],
   "source": [
    "for i in range(len(tmp)):\n",
    "    for j in range(len(alice)):\n",
    "        if tmp[i] < alice[j]:\n",
    "            break\n",
    "            tmp.insert(i-1, alice[j])\n",
    "            \n",
    "#             print(tmp[i-1])"
   ]
  },
  {
   "cell_type": "code",
   "execution_count": 29,
   "metadata": {},
   "outputs": [
    {
     "data": {
      "text/plain": [
       "[100, 50, 40, 20, 10]"
      ]
     },
     "execution_count": 29,
     "metadata": {},
     "output_type": "execute_result"
    }
   ],
   "source": [
    "tmp"
   ]
  },
  {
   "cell_type": "code",
   "execution_count": 6,
   "metadata": {
    "scrolled": true
   },
   "outputs": [
    {
     "data": {
      "text/plain": [
       "10"
      ]
     },
     "execution_count": 6,
     "metadata": {},
     "output_type": "execute_result"
    }
   ],
   "source": [
    "min(tmp)"
   ]
  },
  {
   "cell_type": "code",
   "execution_count": null,
   "metadata": {},
   "outputs": [],
   "source": [
    "def climbingLeaderboard(scores, alice):\n",
    "    # Complete this function\n",
    "    \n",
    "    \n",
    "    \n",
    "    \n",
    "\n",
    "result = climbingLeaderboard(scores, alice)\n",
    "print (\"\\n\".join(map(str, result)))"
   ]
  },
  {
   "cell_type": "code",
   "execution_count": 11,
   "metadata": {},
   "outputs": [
    {
     "data": {
      "text/plain": [
       "[100, 50, 40, 20, 10]"
      ]
     },
     "execution_count": 11,
     "metadata": {},
     "output_type": "execute_result"
    }
   ],
   "source": [
    "scores = list(set(scores))\n",
    "scores.sort(reverse=True)\n",
    "scores"
   ]
  },
  {
   "cell_type": "code",
   "execution_count": 16,
   "metadata": {},
   "outputs": [
    {
     "data": {
      "text/plain": [
       "[100, 50, 40, 20, 10, 50, 100, 50, 40, 20, 10]"
      ]
     },
     "execution_count": 16,
     "metadata": {},
     "output_type": "execute_result"
    }
   ],
   "source": [
    "result = []\n",
    "\n",
    "for a_score in alice:\n",
    "    for i in range(len(scores)):\n",
    "        if scores[i] > a_score:\n",
    "            index = i\n",
    "            result = scores[i:] + [a_score] + scores[i:]\n",
    "        \n",
    "result"
   ]
  },
  {
   "cell_type": "code",
   "execution_count": null,
   "metadata": {},
   "outputs": [],
   "source": [
    "def climbingLeaderboard(scores, alice):\n",
    "    scores = list(set(scores))"
   ]
  },
  {
   "cell_type": "code",
   "execution_count": null,
   "metadata": {},
   "outputs": [],
   "source": [
    "c = int(input(\"enter value:\")) \n",
    "\n",
    "for i in range(len(b)):\n",
    "     if b[i] > c:\n",
    "        index = i\n",
    "        break d = b[:i] + [c] + b[i:] print(d)`"
   ]
  },
  {
   "cell_type": "code",
   "execution_count": 9,
   "metadata": {},
   "outputs": [
    {
     "data": {
      "text/plain": [
       "{1: 100}"
      ]
     },
     "execution_count": 9,
     "metadata": {},
     "output_type": "execute_result"
    }
   ],
   "source": [
    "rank = {1:scores[0]}\n",
    "rank"
   ]
  },
  {
   "cell_type": "code",
   "execution_count": 17,
   "metadata": {},
   "outputs": [
    {
     "data": {
      "text/plain": [
       "True"
      ]
     },
     "execution_count": 17,
     "metadata": {},
     "output_type": "execute_result"
    }
   ],
   "source": [
    "# rank.keys()[0]\n",
    "rank.get(4) == None"
   ]
  },
  {
   "cell_type": "code",
   "execution_count": 39,
   "metadata": {},
   "outputs": [
    {
     "data": {
      "text/plain": [
       "[100, 50, 40, 20, 10]"
      ]
     },
     "execution_count": 39,
     "metadata": {},
     "output_type": "execute_result"
    }
   ],
   "source": [
    "scores = list(set(scores))\n",
    "scores.sort(reverse=True)\n",
    "scores"
   ]
  },
  {
   "cell_type": "code",
   "execution_count": 40,
   "metadata": {},
   "outputs": [
    {
     "data": {
      "text/plain": [
       "{}"
      ]
     },
     "execution_count": 40,
     "metadata": {},
     "output_type": "execute_result"
    }
   ],
   "source": [
    "rank = {}\n",
    "rank"
   ]
  },
  {
   "cell_type": "code",
   "execution_count": 44,
   "metadata": {},
   "outputs": [
    {
     "data": {
      "text/plain": [
       "{1: 100, 2: 50, 3: 40, 4: 20, 5: 10}"
      ]
     },
     "execution_count": 44,
     "metadata": {},
     "output_type": "execute_result"
    }
   ],
   "source": [
    "for i in range(len(scores)):\n",
    "    rank[i+1] = scores[i]\n",
    "rank"
   ]
  },
  {
   "cell_type": "code",
   "execution_count": 46,
   "metadata": {},
   "outputs": [
    {
     "ename": "SyntaxError",
     "evalue": "invalid syntax (<ipython-input-46-55586e8c7ecb>, line 13)",
     "output_type": "error",
     "traceback": [
      "\u001b[0;36m  File \u001b[0;32m\"<ipython-input-46-55586e8c7ecb>\"\u001b[0;36m, line \u001b[0;32m13\u001b[0m\n\u001b[0;31m    break d = b[:i] + [c] + b[i:] print(d)`\u001b[0m\n\u001b[0m          ^\u001b[0m\n\u001b[0;31mSyntaxError\u001b[0m\u001b[0;31m:\u001b[0m invalid syntax\n"
     ]
    }
   ],
   "source": [
    "a = [] \n",
    "num = int(input('How many numbers: ')) \n",
    "for n in range(num):\n",
    "    numbers = int(input('Enter values:'))\n",
    "    a.append(numbers)\n",
    "\n",
    "b = sorted(a) \n",
    "c = int(input(\"enter value:\")) \n",
    "\n",
    "for i in range(len(b)):\n",
    "     if b[i] > c:\n",
    "        index = i\n",
    "        break d = b[:i] + [c] + b[i:] print(d)`"
   ]
  },
  {
   "cell_type": "code",
   "execution_count": null,
   "metadata": {},
   "outputs": [],
   "source": []
  },
  {
   "cell_type": "code",
   "execution_count": null,
   "metadata": {},
   "outputs": [],
   "source": [
    "alice_rank = {}\n",
    "for a_score in alice:\n",
    "    \n",
    "    if a_score in rank.values:\n",
    "        alice_rank = {rank.key : a_score}\n",
    "    else:    \n",
    "        for score in rank.values:\n",
    "            if score > a_score:\n",
    "                rank.get(score)\n",
    "        alice_rank = {}"
   ]
  },
  {
   "cell_type": "code",
   "execution_count": null,
   "metadata": {},
   "outputs": [],
   "source": [
    "result = list(map(lambda name : name.split(\" \")[0], name_list))\n",
    "result"
   ]
  },
  {
   "cell_type": "code",
   "execution_count": null,
   "metadata": {},
   "outputs": [],
   "source": [
    "n, m = 7, 4\n",
    "scores=[100,100,50,40,40,20,10]\n",
    "alice=[5,25,50,120]\n",
    "\n",
    "a[2] = 'b'\n",
    "\n",
    "\n",
    "def climbingLeaderboard(scores, alice):\n",
    "    # Complete this function\n",
    "#     rank = {1:scores[0]}\n",
    "    \n",
    "    rank = 1\n",
    "    rank_scores = {rank:scores[0]}\n",
    "    \n",
    "    for i in range(len(scores)):\n",
    "        dic.get(rank)\n",
    "    \n",
    "    for i in range(1, len(scores)):\n",
    "        \n",
    "    \n",
    "    \n",
    "    for score in scores[1:]:\n",
    "        if score in scores[:]:\n",
    "            \n",
    "    \n",
    "    for point in alice:\n",
    "        \n",
    "    \n",
    "    \n",
    "\n",
    "result = climbingLeaderboard(scores, alice)\n",
    "print (\"\\n\".join(map(str, result)))"
   ]
  },
  {
   "cell_type": "code",
   "execution_count": null,
   "metadata": {},
   "outputs": [],
   "source": []
  },
  {
   "cell_type": "markdown",
   "metadata": {},
   "source": [
    "##### The Hurdle Race"
   ]
  },
  {
   "cell_type": "code",
   "execution_count": 49,
   "metadata": {},
   "outputs": [
    {
     "name": "stdout",
     "output_type": "stream",
     "text": [
      "5 4\n",
      "1 6 3 5 2\n",
      "2\n"
     ]
    }
   ],
   "source": [
    "#!/bin/python3\n",
    "\n",
    "import sys\n",
    "\n",
    "def hurdleRace(k, height):\n",
    "    # Complete this function\n",
    "    magic_number = 0\n",
    "    \n",
    "    for h in height:\n",
    "        if h > k and (h-k)>magic_number:\n",
    "            magic_number = h-k\n",
    "    return magic_number\n",
    "\n",
    "if __name__ == \"__main__\":\n",
    "    n, k = input().strip().split(' ')\n",
    "    n, k = [int(n), int(k)]\n",
    "    height = list(map(int, input().strip().split(' ')))\n",
    "    result = hurdleRace(k, height)\n",
    "    print(result)\n"
   ]
  },
  {
   "cell_type": "markdown",
   "metadata": {},
   "source": [
    "##### Designer PDF Viewer"
   ]
  },
  {
   "cell_type": "code",
   "execution_count": 120,
   "metadata": {},
   "outputs": [],
   "source": [
    "h = [1, 3, 1, 3, 1, 4, 1, 3, 2, 5, 5, 5, 5, 5, 5, 5, 5, 5, 5, 5, 5, 5, 5, 5, 5, 7]\n",
    "word = \"zaba\""
   ]
  },
  {
   "cell_type": "code",
   "execution_count": null,
   "metadata": {},
   "outputs": [],
   "source": [
    "#!/bin/python3\n",
    "\n",
    "import sys\n",
    "\n",
    "def designerPdfViewer(h, word):\n",
    "    # Complete this function\n",
    "    word = list(word)\n",
    "    word = [int(ord(w))-97 for w in word ]\n",
    "\n",
    "    word_h = [h[w] for w in word]\n",
    "    max_h = 0\n",
    "    for n in word_h:\n",
    "        if n > max_h:\n",
    "            max_h = n\n",
    "    \n",
    "    return max_h * len(word)\n",
    "\n",
    "if __name__ == \"__main__\":\n",
    "    h = list(map(int, input().strip().split(' ')))\n",
    "    word = input().strip()\n",
    "    result = designerPdfViewer(h, word)\n",
    "    print(result)\n"
   ]
  },
  {
   "cell_type": "markdown",
   "metadata": {},
   "source": [
    "##### Utopian Tree"
   ]
  },
  {
   "cell_type": "code",
   "execution_count": null,
   "metadata": {},
   "outputs": [],
   "source": [
    "t = 3\n",
    "# n = 0\n",
    "# n = 1\n",
    "n = 4"
   ]
  },
  {
   "cell_type": "code",
   "execution_count": null,
   "metadata": {},
   "outputs": [],
   "source": [
    "#!/bin/python3\n",
    "\n",
    "import sys\n",
    "\n",
    "def utopianTree(n):\n",
    "    # Complete this function\n",
    "    tree_h = 1\n",
    "    for i in range(n):\n",
    "        if i%2 == 0:\n",
    "            # spring\n",
    "            tree_h *= 2\n",
    "        else:\n",
    "            # summer\n",
    "            tree_h += 1 \n",
    "            \n",
    "    return tree_h\n",
    "\n",
    "if __name__ == \"__main__\":\n",
    "    t = int(input().strip())\n",
    "    for a0 in range(t):\n",
    "        n = int(input().strip())\n",
    "        result = utopianTree(n)\n",
    "        print(result)\n"
   ]
  },
  {
   "cell_type": "markdown",
   "metadata": {},
   "source": [
    "##### Angry Professor\n"
   ]
  },
  {
   "cell_type": "code",
   "execution_count": null,
   "metadata": {},
   "outputs": [],
   "source": [
    "k, a = 4, 3\n",
    "a = [-1, -3, 4, 2]\n",
    "# k, a = 4, 2\n",
    "# a = [0, -1, 2, 1]"
   ]
  },
  {
   "cell_type": "code",
   "execution_count": null,
   "metadata": {},
   "outputs": [],
   "source": [
    "def angryProfessor(k, a):\n",
    "    # Complete this function\n",
    "    \n",
    "    \n",
    "    \n",
    "    \n",
    "\n",
    "result = angryProfessor(k, a)\n",
    "print(result)\n"
   ]
  },
  {
   "cell_type": "code",
   "execution_count": null,
   "metadata": {},
   "outputs": [],
   "source": []
  }
 ],
 "metadata": {
  "kernelspec": {
   "display_name": "Python 3",
   "language": "python",
   "name": "python3"
  },
  "language_info": {
   "codemirror_mode": {
    "name": "ipython",
    "version": 3
   },
   "file_extension": ".py",
   "mimetype": "text/x-python",
   "name": "python",
   "nbconvert_exporter": "python",
   "pygments_lexer": "ipython3",
   "version": "3.6.3"
  }
 },
 "nbformat": 4,
 "nbformat_minor": 2
}
