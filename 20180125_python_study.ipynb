{
 "cells": [
  {
   "cell_type": "markdown",
   "metadata": {},
   "source": [
    "### Solve Me First"
   ]
  },
  {
   "cell_type": "code",
   "execution_count": 1,
   "metadata": {},
   "outputs": [
    {
     "name": "stdout",
     "output_type": "stream",
     "text": [
      "2\n",
      "3\n",
      "5\n"
     ]
    }
   ],
   "source": [
    "def solveMeFirst(a,b):\n",
    "    return a + b\n",
    "  \n",
    "\n",
    "num1 = int(input())\n",
    "num2 = int(input())\n",
    "res = solveMeFirst(num1,num2)\n",
    "print(res)\n"
   ]
  },
  {
   "cell_type": "markdown",
   "metadata": {},
   "source": [
    "### Simple Array Sum"
   ]
  },
  {
   "cell_type": "code",
   "execution_count": 3,
   "metadata": {},
   "outputs": [
    {
     "name": "stdout",
     "output_type": "stream",
     "text": [
      "6\n",
      "1 2 3 4 10 11\n",
      "31\n"
     ]
    }
   ],
   "source": [
    "#!/bin/python3\n",
    "\n",
    "import sys\n",
    "\n",
    "def simpleArraySum(n, ar):\n",
    "    # Complete this function\n",
    "    result = 0\n",
    "    for num in ar:\n",
    "        result += num \n",
    "    return result\n",
    "\n",
    "n = int(input().strip())\n",
    "ar = list(map(int, input().strip().split(' ')))\n",
    "result = simpleArraySum(n, ar)\n",
    "print(result)"
   ]
  },
  {
   "cell_type": "markdown",
   "metadata": {},
   "source": [
    "### Compare the Triplets"
   ]
  },
  {
   "cell_type": "code",
   "execution_count": 8,
   "metadata": {},
   "outputs": [
    {
     "name": "stdout",
     "output_type": "stream",
     "text": [
      "5 6 7\n",
      "3 6 10\n",
      "1 1\n"
     ]
    }
   ],
   "source": [
    "#!/bin/python3\n",
    "\n",
    "import sys\n",
    "\n",
    "def solve(a0, a1, a2, b0, b1, b2):\n",
    "    # Complete this function\n",
    "    alice, bob = 0, 0\n",
    "    if a0 > b0: \n",
    "        alice += 1\n",
    "    elif a0 < b0:\n",
    "        bob += 1\n",
    "    \n",
    "    if a1 > b1:\n",
    "        alice += 1\n",
    "    elif a1 < b1:\n",
    "        bob += 1\n",
    "        \n",
    "    if a2 > b2:\n",
    "        alice += 1\n",
    "    elif a2 < b2:\n",
    "        bob += 1\n",
    "        \n",
    "    return alice, bob\n",
    "    \n",
    "\n",
    "a0, a1, a2 = input().strip().split(' ')\n",
    "a0, a1, a2 = [int(a0), int(a1), int(a2)]\n",
    "b0, b1, b2 = input().strip().split(' ')\n",
    "b0, b1, b2 = [int(b0), int(b1), int(b2)]\n",
    "result = solve(a0, a1, a2, b0, b1, b2)\n",
    "print (\" \".join(map(str, result)))"
   ]
  },
  {
   "cell_type": "markdown",
   "metadata": {},
   "source": [
    "### A Very Big Sum"
   ]
  },
  {
   "cell_type": "code",
   "execution_count": 12,
   "metadata": {},
   "outputs": [
    {
     "name": "stdout",
     "output_type": "stream",
     "text": [
      "5\n",
      "1000000001 1000000002 1000000003 1000000004 1000000005\n",
      "5000000015\n"
     ]
    }
   ],
   "source": [
    "#!/bin/python3\n",
    "\n",
    "import sys\n",
    "\n",
    "def aVeryBigSum(n, ar):\n",
    "    # Complete this function\n",
    "    arr_sum = 0\n",
    "    for i in range(n):\n",
    "        arr_sum += ar[i]\n",
    "    return arr_sum\n",
    "        \n",
    "n = int(input().strip())\n",
    "ar = list(map(int, input().strip().split(' ')))\n",
    "result = aVeryBigSum(n, ar)\n",
    "print(result)\n"
   ]
  },
  {
   "cell_type": "markdown",
   "metadata": {},
   "source": [
    "### Diagonal Difference"
   ]
  },
  {
   "cell_type": "code",
   "execution_count": 21,
   "metadata": {},
   "outputs": [
    {
     "name": "stdout",
     "output_type": "stream",
     "text": [
      "3\n",
      "11 2 4\n",
      "4 5 6\n",
      "10 8 -12\n",
      "15\n"
     ]
    }
   ],
   "source": [
    "#!/bin/python3\n",
    "\n",
    "import sys\n",
    "\n",
    "def diagonalDifference(a):\n",
    "    pri_dia = 0\n",
    "    sec_dia = 0\n",
    "\n",
    "    for i in range(len(a)):\n",
    "        j = (len(a) - 1) - i\n",
    "        pri_dia += a[i][i]\n",
    "        sec_dia += a[i][j]\n",
    "    \n",
    "    return abs(pri_dia - sec_dia)\n",
    "    \n",
    "\n",
    "if __name__ == \"__main__\":\n",
    "    n = int(input().strip())\n",
    "    a = []\n",
    "    for a_i in range(n):\n",
    "       a_t = [int(a_temp) for a_temp in input().strip().split(' ')]\n",
    "       a.append(a_t)\n",
    "    result = diagonalDifference(a)\n",
    "    print(result)\n"
   ]
  },
  {
   "cell_type": "markdown",
   "metadata": {},
   "source": [
    "### Plus Minus\n"
   ]
  },
  {
   "cell_type": "code",
   "execution_count": 35,
   "metadata": {},
   "outputs": [
    {
     "name": "stdout",
     "output_type": "stream",
     "text": [
      "6\n",
      "-4 3 -9 0 4 1\n",
      "0.5\n",
      "0.333333\n",
      "0.166667\n"
     ]
    }
   ],
   "source": [
    "#!/bin/python3\n",
    "\n",
    "import sys\n",
    "\n",
    "def plusMinus(arr):\n",
    "    # Complete this function\n",
    "    pos, neg, zero = 0, 0, 0\n",
    "    for num in arr:\n",
    "        if num > 0:\n",
    "            pos += 1\n",
    "        elif num < 0:\n",
    "            neg += 1\n",
    "        else:\n",
    "            zero += 1\n",
    "    print(round(float(pos/n), 6))\n",
    "    print(round(float(neg/n), 6))\n",
    "    print(round(float(zero/n), 6))\n",
    "\n",
    "if __name__ == \"__main__\":\n",
    "    n = int(input().strip())\n",
    "    arr = list(map(int, input().strip().split(' ')))\n",
    "    plusMinus(arr)\n"
   ]
  },
  {
   "cell_type": "markdown",
   "metadata": {},
   "source": [
    "### Staircase"
   ]
  },
  {
   "cell_type": "code",
   "execution_count": 36,
   "metadata": {},
   "outputs": [
    {
     "name": "stdout",
     "output_type": "stream",
     "text": [
      "6\n",
      "     #\n",
      "    ##\n",
      "   ###\n",
      "  ####\n",
      " #####\n",
      "######\n"
     ]
    }
   ],
   "source": [
    "#!/bin/python3\n",
    "\n",
    "import sys\n",
    "\n",
    "def staircase(n):\n",
    "    # Complete this function\n",
    "    space = n-1\n",
    "    \n",
    "    for i in range(1, n+1):\n",
    "        print(\" \"*space + \"#\"*i)\n",
    "        space -= 1\n",
    "        \n",
    "if __name__ == \"__main__\":\n",
    "    n = int(input().strip())\n",
    "    staircase(n)"
   ]
  },
  {
   "cell_type": "markdown",
   "metadata": {},
   "source": [
    "### Mini-Max Sum"
   ]
  },
  {
   "cell_type": "code",
   "execution_count": 10,
   "metadata": {},
   "outputs": [
    {
     "name": "stdout",
     "output_type": "stream",
     "text": [
      "1 2 3 4 5\n",
      "10 14\n"
     ]
    }
   ],
   "source": [
    "#!/bin/python3\n",
    "\n",
    "import sys\n",
    "\n",
    "def miniMaxSum(arr):\n",
    "    # Complete this function\n",
    "    sum_all, sum_others, max_sum, min_sum = 0, 0, 0, 0\n",
    "    \n",
    "    for num in arr:\n",
    "        sum_all += num\n",
    "        \n",
    "    min_sum = sum_all\n",
    "\n",
    "    for i in range(len(arr)):\n",
    "        sum_others = sum_all - arr[i]\n",
    "        \n",
    "        if sum_others < min_sum:\n",
    "            min_sum = sum_others\n",
    "            \n",
    "        if sum_others > max_sum:\n",
    "            max_sum = sum_others\n",
    "            \n",
    "    print(min_sum, max_sum)\n",
    "\n",
    "if __name__ == \"__main__\":\n",
    "    arr = list(map(int, input().strip().split(' ')))\n",
    "    miniMaxSum(arr)\n"
   ]
  },
  {
   "cell_type": "markdown",
   "metadata": {},
   "source": [
    "### Birthday Cake Candles"
   ]
  },
  {
   "cell_type": "code",
   "execution_count": 15,
   "metadata": {},
   "outputs": [
    {
     "name": "stdout",
     "output_type": "stream",
     "text": [
      "4\n",
      "3 2 1 3\n",
      "2\n"
     ]
    }
   ],
   "source": [
    "#!/bin/python3\n",
    "\n",
    "import sys\n",
    "\n",
    "def birthdayCakeCandles(n, ar):\n",
    "    # Complete this function\n",
    "    max_h, count = 1, 0\n",
    "    for h in ar:\n",
    "        if h > max_h:\n",
    "            max_h = h\n",
    "            count = 0 \n",
    "            count += 1\n",
    "        elif h == max_h:\n",
    "            count += 1\n",
    "            \n",
    "    return count\n",
    "\n",
    "n = int(input().strip())\n",
    "ar = list(map(int, input().strip().split(' ')))\n",
    "result = birthdayCakeCandles(n, ar)\n",
    "print(result)"
   ]
  },
  {
   "cell_type": "markdown",
   "metadata": {},
   "source": [
    "### Time Conversion\n"
   ]
  },
  {
   "cell_type": "code",
   "execution_count": 42,
   "metadata": {},
   "outputs": [
    {
     "name": "stdout",
     "output_type": "stream",
     "text": [
      "07:05:45PM\n",
      "19:05:45\n"
     ]
    }
   ],
   "source": [
    "#!/bin/python3\n",
    "\n",
    "import sys\n",
    "\n",
    "def timeConversion(s):\n",
    "    # Complete this function\n",
    "    hour = int(s[:2])\n",
    "    military_hour = []\n",
    "    \n",
    "    if s[-2:] == \"AM\":\n",
    "        if s[:2] == \"12\":\n",
    "            military_hour.append(\"00\")\n",
    "        else:\n",
    "            military_hour.append(s[:2])\n",
    "\n",
    "    elif s[-2:] == \"PM\":\n",
    "        if s[:2] == \"12\":\n",
    "            military_hour.append(s[:2])\n",
    "        else:\n",
    "            hour = int(hour) + 12\n",
    "            military_hour.append(str(hour))\n",
    "    \n",
    "    military_hour.append(\":\")          \n",
    "    military_hour.append(s[3:-2])\n",
    "    military_hour = \"\".join(military_hour)\n",
    "\n",
    "    return military_hour\n",
    "\n",
    "s = input().strip()\n",
    "result = timeConversion(s)\n",
    "print(result)\n"
   ]
  },
  {
   "cell_type": "code",
   "execution_count": null,
   "metadata": {},
   "outputs": [],
   "source": []
  },
  {
   "cell_type": "code",
   "execution_count": null,
   "metadata": {},
   "outputs": [],
   "source": []
  },
  {
   "cell_type": "code",
   "execution_count": 17,
   "metadata": {
    "scrolled": false
   },
   "outputs": [
    {
     "data": {
      "text/plain": [
       "[75, 67, 40, 33]"
      ]
     },
     "execution_count": 17,
     "metadata": {},
     "output_type": "execute_result"
    }
   ],
   "source": [
    "grades = [73, 67, 38, 33]\n",
    "\n",
    "def solve(grades):\n",
    "    # Complete this function\n",
    "    \n",
    "    result = []\n",
    "    for grade in grades:\n",
    "       \n",
    "        if grade >= 38:\n",
    "            multiple = (grade // 5) + 1\n",
    "            mod = grade % 5 \n",
    "            \n",
    "            \n",
    "            if mod >= 3:\n",
    "                result.append(multiple * 5)\n",
    "            \n",
    "            elif mod <3:\n",
    "                result.append(grade)\n",
    "        else:\n",
    "            result.append(grade)\n",
    "\n",
    "\n",
    "    return result\n",
    "                \n",
    "solve(grades)"
   ]
  }
 ],
 "metadata": {
  "kernelspec": {
   "display_name": "Python 3",
   "language": "python",
   "name": "python3"
  },
  "language_info": {
   "codemirror_mode": {
    "name": "ipython",
    "version": 3
   },
   "file_extension": ".py",
   "mimetype": "text/x-python",
   "name": "python",
   "nbconvert_exporter": "python",
   "pygments_lexer": "ipython3",
   "version": "3.6.3"
  }
 },
 "nbformat": 4,
 "nbformat_minor": 2
}
