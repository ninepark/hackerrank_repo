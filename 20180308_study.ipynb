{
 "cells": [
  {
   "cell_type": "markdown",
   "metadata": {},
   "source": [
    "### Beautiful Days at the Movies"
   ]
  },
  {
   "cell_type": "code",
   "execution_count": 17,
   "metadata": {},
   "outputs": [
    {
     "name": "stdout",
     "output_type": "stream",
     "text": [
      "20 23 6\n",
      "2\n"
     ]
    }
   ],
   "source": [
    "#!/bin/python3\n",
    "\n",
    "import sys\n",
    "\n",
    "def beautifulDays(i, j, k):\n",
    "    # Complete this function\n",
    "    result = []\n",
    "    for day in range(i, j+1):\n",
    "        if abs(day - int(str(day)[::-1])) % k == 0:\n",
    "            result.append(day)\n",
    "    \n",
    "    return len(result)\n",
    "    \n",
    "\n",
    "if __name__ == \"__main__\":\n",
    "    i, j, k = input().strip().split(' ')\n",
    "    i, j, k = [int(i), int(j), int(k)]\n",
    "    result = beautifulDays(i, j, k)\n",
    "    print(result)\n"
   ]
  },
  {
   "cell_type": "markdown",
   "metadata": {},
   "source": [
    "### Viral Advertising"
   ]
  },
  {
   "cell_type": "code",
   "execution_count": 18,
   "metadata": {},
   "outputs": [
    {
     "name": "stdout",
     "output_type": "stream",
     "text": [
      "3\n",
      "9\n"
     ]
    }
   ],
   "source": [
    "#!/bin/python3\n",
    "\n",
    "import sys\n",
    "\n",
    "def viralAdvertising(n):\n",
    "    # Complete this function\n",
    "    like_ppl = []\n",
    "    for i in range(n):\n",
    "        if i == 0:\n",
    "            like_ppl.append(5//2)\n",
    "            get_ad = like_ppl[i] * 3\n",
    "        else:\n",
    "            like_ppl.append(get_ad//2)\n",
    "            get_ad = like_ppl[i] * 3\n",
    "\n",
    "    return sum(like_ppl)\n",
    "\n",
    "if __name__ == \"__main__\":\n",
    "    n = int(input().strip())\n",
    "    result = viralAdvertising(n)\n",
    "    print(result)\n"
   ]
  },
  {
   "cell_type": "markdown",
   "metadata": {},
   "source": [
    "### Save the Prisoner!"
   ]
  },
  {
   "cell_type": "code",
   "execution_count": null,
   "metadata": {},
   "outputs": [],
   "source": []
  },
  {
   "cell_type": "markdown",
   "metadata": {},
   "source": [
    "### Circular Array Rotation|"
   ]
  },
  {
   "cell_type": "code",
   "execution_count": 19,
   "metadata": {},
   "outputs": [
    {
     "name": "stdout",
     "output_type": "stream",
     "text": [
      "3 2 3\n",
      "1 2 3\n",
      "0\n",
      "1\n",
      "2\n",
      "2\n",
      "3\n",
      "1\n"
     ]
    }
   ],
   "source": [
    "#!/bin/python3\n",
    "\n",
    "import sys\n",
    "\n",
    "def circularArrayRotation(a, m):\n",
    "    # Complete this function\n",
    "    result = []\n",
    "    tmp = a[n-k%n:] + a[:n-k%n]\n",
    "    for i in range(q):\n",
    "        result.append(tmp[m[i]])\n",
    "    return result\n",
    "\n",
    "if __name__ == \"__main__\":\n",
    "    n, k, q = input().strip().split(' ')\n",
    "    n, k, q = [int(n), int(k), int(q)]\n",
    "    a = list(map(int, input().strip().split(' ')))\n",
    "    m = []\n",
    "    m_i = 0\n",
    "    for m_i in range(q):\n",
    "        m_t = int(input().strip())\n",
    "        m.append(m_t)\n",
    "    result = circularArrayRotation(a, m)\n",
    "    print (\"\\n\".join(map(str, result)))"
   ]
  },
  {
   "cell_type": "markdown",
   "metadata": {},
   "source": [
    "### Sequence Equation"
   ]
  },
  {
   "cell_type": "code",
   "execution_count": 20,
   "metadata": {},
   "outputs": [
    {
     "name": "stdout",
     "output_type": "stream",
     "text": [
      "3\n",
      "2 3 1\n",
      "2\n",
      "3\n",
      "1\n"
     ]
    }
   ],
   "source": [
    "#!/bin/python3\n",
    "\n",
    "import sys\n",
    "\n",
    "def permutationEquation(p):\n",
    "    # Complete this function\n",
    "    result = []\n",
    "    for i in range(1, len(p)+1):\n",
    "        result.append(p.index(p.index(i)+1)+1)\n",
    "    return result\n",
    "    \n",
    "\n",
    "if __name__ == \"__main__\":\n",
    "    n = int(input().strip())\n",
    "    p = list(map(int, input().strip().split(' ')))\n",
    "    result = permutationEquation(p)\n",
    "    print (\"\\n\".join(map(str, result)))"
   ]
  },
  {
   "cell_type": "markdown",
   "metadata": {},
   "source": [
    "### Jumping on the Clouds: Revisited"
   ]
  },
  {
   "cell_type": "code",
   "execution_count": 21,
   "metadata": {},
   "outputs": [
    {
     "name": "stdout",
     "output_type": "stream",
     "text": [
      "8 2\n",
      "0 0 1 0 0 1 1 0\n",
      "92\n"
     ]
    }
   ],
   "source": [
    "#!/bin/python3\n",
    "\n",
    "import sys\n",
    "\n",
    "def jumpingOnClouds(c, k):\n",
    "    # Complete this function\n",
    "    energy = 100\n",
    "    c.append(c[0])\n",
    "    for i in range(n//k):\n",
    "        energy -= 1\n",
    "        if c[i*k] == 1:\n",
    "            energy -= 2\n",
    "#     tmp = [c[i], c.index(i) for i in range(n) if i%k == 0]\n",
    "    return energy\n",
    "\n",
    "if __name__ == \"__main__\":\n",
    "    n, k = input().strip().split(' ')\n",
    "    n, k = [int(n), int(k)]\n",
    "    c = list(map(int, input().strip().split(' ')))\n",
    "    result = jumpingOnClouds(c, k)\n",
    "    print(result)\n",
    "    "
   ]
  },
  {
   "cell_type": "code",
   "execution_count": null,
   "metadata": {},
   "outputs": [],
   "source": []
  },
  {
   "cell_type": "code",
   "execution_count": null,
   "metadata": {},
   "outputs": [],
   "source": []
  },
  {
   "cell_type": "code",
   "execution_count": null,
   "metadata": {},
   "outputs": [],
   "source": []
  },
  {
   "cell_type": "code",
   "execution_count": null,
   "metadata": {},
   "outputs": [],
   "source": [
    "2 \n",
    "5 2 1\n",
    "5 2 2"
   ]
  },
  {
   "cell_type": "code",
   "execution_count": null,
   "metadata": {},
   "outputs": [],
   "source": [
    "num=5; candy=2; pid=1;\n",
    "# n=5; m=2; s=2;\n",
    "\n",
    "def saveThePrisoner(num, candy, pid):\n",
    "    # Complete this function\n",
    "    candy_prisoner = [i for i in range(candy, pid, num)]\n",
    "    for i in range(candy):\n",
    "        \n",
    "\n",
    "\n",
    "result = saveThePrisoner(num, candy, pid)\n",
    "print(result)\n"
   ]
  },
  {
   "cell_type": "code",
   "execution_count": null,
   "metadata": {},
   "outputs": [],
   "source": []
  },
  {
   "cell_type": "code",
   "execution_count": 46,
   "metadata": {},
   "outputs": [
    {
     "name": "stdout",
     "output_type": "stream",
     "text": [
      "[3, 4, 5]\n"
     ]
    },
    {
     "ename": "IndexError",
     "evalue": "list index out of range",
     "output_type": "error",
     "traceback": [
      "\u001b[0;31m---------------------------------------------------------------------------\u001b[0m",
      "\u001b[0;31mIndexError\u001b[0m                                Traceback (most recent call last)",
      "\u001b[0;32m<ipython-input-46-ee7b604c17cb>\u001b[0m in \u001b[0;36m<module>\u001b[0;34m()\u001b[0m\n\u001b[1;32m      6\u001b[0m \u001b[0;31m#     candy_prisoner += [i for i in range(1, n-s)]\u001b[0m\u001b[0;34m\u001b[0m\u001b[0;34m\u001b[0m\u001b[0m\n\u001b[1;32m      7\u001b[0m \u001b[0mprint\u001b[0m\u001b[0;34m(\u001b[0m\u001b[0mcandy_prisoner\u001b[0m\u001b[0;34m)\u001b[0m\u001b[0;34m\u001b[0m\u001b[0m\n\u001b[0;32m----> 8\u001b[0;31m \u001b[0mcandy_prisoner\u001b[0m\u001b[0;34m[\u001b[0m\u001b[0mm\u001b[0m\u001b[0;34m-\u001b[0m\u001b[0;36m1\u001b[0m\u001b[0;34m]\u001b[0m\u001b[0;34m\u001b[0m\u001b[0m\n\u001b[0m",
      "\u001b[0;31mIndexError\u001b[0m: list index out of range"
     ]
    }
   ],
   "source": [
    "n=5; m=12; s=2;\n",
    "candy_prisoner=[]\n",
    "candy_prisoner = [s+i for i in range(1, n-s+1)] \n",
    "# print(candy_prisoner)\n",
    "# if m>n:\n",
    "#     candy_prisoner += [i for i in range(1, n-s)]\n",
    "print(candy_prisoner)\n",
    "candy_prisoner[m-1]"
   ]
  },
  {
   "cell_type": "code",
   "execution_count": 63,
   "metadata": {},
   "outputs": [
    {
     "data": {
      "text/plain": [
       "[2, 3, 4, 5, 1, 2, 3, 4, 5]"
      ]
     },
     "execution_count": 63,
     "metadata": {},
     "output_type": "execute_result"
    }
   ],
   "source": [
    "n=5; m=12; s=2; candy_prisoner=[]\n",
    "candy_prisoner = [i+s for i in range(n-1)]\n",
    "if m>n:\n",
    "    candy_prisoner += [i+1-s for i in range(s, m-len(candy_prisoner)-1)]\n",
    "candy_prisoner"
   ]
  },
  {
   "cell_type": "code",
   "execution_count": 64,
   "metadata": {},
   "outputs": [
    {
     "data": {
      "text/plain": [
       "[2, 3, 4, 5, 1]"
      ]
     },
     "execution_count": 64,
     "metadata": {},
     "output_type": "execute_result"
    }
   ],
   "source": [
    "n=5; m=12; s=2; candy_prisoner=[]\n",
    "candy_prisoner = [i for i in range(s, n+1)] + [i for i in range(1, s)]\n",
    "candy_prisoner"
   ]
  },
  {
   "cell_type": "code",
   "execution_count": 66,
   "metadata": {},
   "outputs": [
    {
     "data": {
      "text/plain": [
       "2"
      ]
     },
     "execution_count": 66,
     "metadata": {},
     "output_type": "execute_result"
    }
   ],
   "source": [
    "m%n"
   ]
  },
  {
   "cell_type": "code",
   "execution_count": 68,
   "metadata": {},
   "outputs": [
    {
     "data": {
      "text/plain": [
       "3"
      ]
     },
     "execution_count": 68,
     "metadata": {},
     "output_type": "execute_result"
    }
   ],
   "source": [
    "candy_prisoner[m%n-1]"
   ]
  },
  {
   "cell_type": "code",
   "execution_count": 72,
   "metadata": {},
   "outputs": [
    {
     "name": "stdout",
     "output_type": "stream",
     "text": [
      "4\n"
     ]
    }
   ],
   "source": [
    "n=5; m=12; s=2; candy_prisoner=[]\n",
    "\n",
    "if m > n:\n",
    "    print(m%n + s)\n",
    "else:\n",
    "    print(n%m + s)"
   ]
  },
  {
   "cell_type": "code",
   "execution_count": 2,
   "metadata": {},
   "outputs": [
    {
     "name": "stdout",
     "output_type": "stream",
     "text": [
      "3\n"
     ]
    }
   ],
   "source": [
    "# n=5; m=12; s=2; \n",
    "n=5; m=2; s=2;\n",
    "\n",
    "# candy_prisoner=[]\n",
    "\n",
    "def saveThePrisoner(n, m, s):\n",
    "#     Complete this function\n",
    "    candy_prisoner = [i for i in range(s, n+1)] + [i for i in range(1, s)]\n",
    "    return candy_prisoner[m%n-1]\n",
    "#     if m > n:\n",
    "#         return s + m%n\n",
    "#     else:\n",
    "#         return n%m+s\n",
    "\n",
    "result = saveThePrisoner(n, m, s)\n",
    "print(result)\n"
   ]
  },
  {
   "cell_type": "code",
   "execution_count": 66,
   "metadata": {},
   "outputs": [
    {
     "name": "stdout",
     "output_type": "stream",
     "text": [
      "-2\n"
     ]
    }
   ],
   "source": [
    "# n=5; m=12; s=2; \n",
    "# n=5; m=2; s=1;\n",
    "n=5; m=2; s=2;\n",
    "# n=46934; m=543563655; s=46743  # 20809\n",
    "# n=530; m=533048047; s=529 # 15\n",
    "# n=999999999; m=999999998; s=999983945 # 999983943\n",
    "\n",
    "\n",
    "def saveThePrisoner(n, m, s):\n",
    "#     if n-s >= m:\n",
    "    if n >= m and (n-s) >= m:\n",
    "        return m-(n-s)-1  \n",
    "    \n",
    "    elif n >= m and (n-s) < m:\n",
    "        return s+m-1\n",
    "\n",
    "    elif n < m:\n",
    "        return (m%n + s)%n - 1\n",
    "    \n",
    "#     elif n < m and n-s >= m:\n",
    "#         return (m%n + s)%n - 1\n",
    "    \n",
    "#     elif n<m and n-s < m:\n",
    "#         return (m%n + s)%n - 1\n",
    "\n",
    "result = saveThePrisoner(n, m, s)\n",
    "print(result)\n"
   ]
  },
  {
   "cell_type": "code",
   "execution_count": 63,
   "metadata": {},
   "outputs": [
    {
     "data": {
      "text/plain": [
       "999983944"
      ]
     },
     "execution_count": 63,
     "metadata": {},
     "output_type": "execute_result"
    }
   ],
   "source": [
    "n=999999999; m=999999999; s=999983945 \n",
    "m-n+s-1"
   ]
  },
  {
   "cell_type": "code",
   "execution_count": 46,
   "metadata": {},
   "outputs": [
    {
     "data": {
      "text/plain": [
       "999983944"
      ]
     },
     "execution_count": 46,
     "metadata": {},
     "output_type": "execute_result"
    }
   ],
   "source": [
    "m-(n-s)-1  "
   ]
  },
  {
   "cell_type": "code",
   "execution_count": 47,
   "metadata": {},
   "outputs": [],
   "source": [
    "n=436776012; m=436776012; s=436776011 # 436776010"
   ]
  },
  {
   "cell_type": "code",
   "execution_count": 59,
   "metadata": {},
   "outputs": [
    {
     "data": {
      "text/plain": [
       "3"
      ]
     },
     "execution_count": 59,
     "metadata": {},
     "output_type": "execute_result"
    }
   ],
   "source": [
    "n-s"
   ]
  },
  {
   "cell_type": "code",
   "execution_count": 48,
   "metadata": {},
   "outputs": [
    {
     "data": {
      "text/plain": [
       "436776010"
      ]
     },
     "execution_count": 48,
     "metadata": {},
     "output_type": "execute_result"
    }
   ],
   "source": [
    "m-(n-s)-1  "
   ]
  },
  {
   "cell_type": "code",
   "execution_count": 51,
   "metadata": {},
   "outputs": [],
   "source": [
    "n=530; m=533048047; s=529 # 15"
   ]
  },
  {
   "cell_type": "code",
   "execution_count": 55,
   "metadata": {},
   "outputs": [
    {
     "data": {
      "text/plain": [
       "15"
      ]
     },
     "execution_count": 55,
     "metadata": {},
     "output_type": "execute_result"
    }
   ],
   "source": [
    "(m%n + s)%n - 1"
   ]
  },
  {
   "cell_type": "code",
   "execution_count": null,
   "metadata": {},
   "outputs": [],
   "source": []
  },
  {
   "cell_type": "code",
   "execution_count": null,
   "metadata": {},
   "outputs": [],
   "source": []
  }
 ],
 "metadata": {
  "kernelspec": {
   "display_name": "Python 3",
   "language": "python",
   "name": "python3"
  },
  "language_info": {
   "codemirror_mode": {
    "name": "ipython",
    "version": 3
   },
   "file_extension": ".py",
   "mimetype": "text/x-python",
   "name": "python",
   "nbconvert_exporter": "python",
   "pygments_lexer": "ipython3",
   "version": "3.6.3"
  }
 },
 "nbformat": 4,
 "nbformat_minor": 2
}
